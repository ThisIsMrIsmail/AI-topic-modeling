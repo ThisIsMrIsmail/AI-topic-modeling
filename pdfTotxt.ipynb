{
 "cells": [
  {
   "cell_type": "code",
   "execution_count": 1,
   "id": "18013ac6",
   "metadata": {},
   "outputs": [
    {
     "data": {
      "text/plain": [
       "<aspose.words.saving.SaveOutputParameters object at 0x000002195E5A9070>"
      ]
     },
     "execution_count": 1,
     "metadata": {},
     "output_type": "execute_result"
    }
   ],
   "source": [
    "import aspose.words as aw\n",
    "\n",
    "doc = aw.Document(\"Resources/file1.pdf\")\n",
    "doc.save(\"ResourcesOut/O1.txt\")\n",
    "doc = aw.Document(\"Resources/file2.pdf\")\n",
    "doc.save(\"ResourcesOut/O2.txt\")\n",
    "doc = aw.Document(\"Resources/file3.pdf\")\n",
    "doc.save(\"ResourcesOut/O3.txt\")\n",
    "doc = aw.Document(\"Resources/file4.pdf\")\n",
    "doc.save(\"ResourcesOut/O4.txt\")\n",
    "doc = aw.Document(\"Resources/file5.pdf\")\n",
    "doc.save(\"ResourcesOut/O5.txt\")\n",
    "doc = aw.Document(\"Resources/file6.pdf\")\n",
    "doc.save(\"ResourcesOut/O6.txt\")\n",
    "doc = aw.Document(\"Resources/file7.pdf\")\n",
    "doc.save(\"ResourcesOut/O7.txt\")\n",
    "doc = aw.Document(\"Resources/file8.pdf\")\n",
    "doc.save(\"ResourcesOut/O8.txt\")\n",
    "doc = aw.Document(\"Resources/file9.pdf\")\n",
    "doc.save(\"ResourcesOut/O9.txt\")\n",
    "doc = aw.Document(\"Resources/file10.pdf\")\n",
    "doc.save(\"ResourcesOut/O10.txt\")\n",
    "doc = aw.Document(\"Resources/file11.pdf\")\n",
    "doc.save(\"ResourcesOut/O11.txt\")\n",
    "doc = aw.Document(\"Resources/file12.pdf\")\n",
    "doc.save(\"ResourcesOut/O12.txt\")\n",
    "doc = aw.Document(\"Resources/file13.pdf\")\n",
    "doc.save(\"ResourcesOut/O13.txt\")\n",
    "doc = aw.Document(\"Resources/file14.pdf\")\n",
    "doc.save(\"ResourcesOut/O14.txt\")\n",
    "doc = aw.Document(\"Resources/file15.pdf\")\n",
    "doc.save(\"ResourcesOut/O15.txt\")\n",
    "doc = aw.Document(\"Resources/file16.pdf\")\n",
    "doc.save(\"ResourcesOut/O16.txt\")\n",
    "doc = aw.Document(\"Resources/file17.pdf\")\n",
    "doc.save(\"ResourcesOut/O17.txt\")\n",
    "doc = aw.Document(\"Resources/file18.pdf\")\n",
    "doc.save(\"ResourcesOut/O18.txt\")\n",
    "doc = aw.Document(\"Resources/file19.pdf\")\n",
    "doc.save(\"ResourcesOut/O19.txt\")\n",
    "doc = aw.Document(\"Resources/file20.pdf\")\n",
    "doc.save(\"ResourcesOut/O20.txt\")\n",
    "doc = aw.Document(\"Resources/file21.pdf\")\n",
    "doc.save(\"ResourcesOut/O21.txt\")\n",
    "doc = aw.Document(\"Resources/file22.pdf\")\n",
    "doc.save(\"ResourcesOut/O22.txt\")\n",
    "doc = aw.Document(\"Resources/file23.pdf\")\n",
    "doc.save(\"ResourcesOut/O23.txt\")\n",
    "doc = aw.Document(\"Resources/file24.pdf\")\n",
    "doc.save(\"ResourcesOut/O24.txt\")\n",
    "doc = aw.Document(\"Resources/file25.pdf\")\n",
    "doc.save(\"ResourcesOut/O25.txt\")\n",
    "doc = aw.Document(\"Resources/file26.pdf\")\n",
    "doc.save(\"ResourcesOut/O26.txt\")\n",
    "doc = aw.Document(\"Resources/file27.pdf\")\n",
    "doc.save(\"ResourcesOut/O27.txt\")"
   ]
  },
  {
   "cell_type": "code",
   "execution_count": 2,
   "id": "0a5b0ebd",
   "metadata": {},
   "outputs": [
    {
     "data": {
      "text/plain": [
       "'Good Morning How are you'"
      ]
     },
     "execution_count": 2,
     "metadata": {},
     "output_type": "execute_result"
    }
   ],
   "source": [
    "#remove Punctuation\n",
    "\n",
    "import string\n",
    "regular_punct = list(string.punctuation)\n",
    "def remove_punctuation(text,punct_list):\n",
    "    for punc in punct_list:\n",
    "        if punc in text:\n",
    "            text = text.replace(punc, ' ')\n",
    "    return text.strip()\n",
    "\n",
    "remove_punctuation(\" Good Morning!How are you? \",regular_punct)"
   ]
  },
  {
   "cell_type": "code",
   "execution_count": null,
   "id": "2aac254e",
   "metadata": {},
   "outputs": [],
   "source": []
  }
 ],
 "metadata": {
  "kernelspec": {
   "display_name": "Python 3 (ipykernel)",
   "language": "python",
   "name": "python3"
  },
  "language_info": {
   "codemirror_mode": {
    "name": "ipython",
    "version": 3
   },
   "file_extension": ".py",
   "mimetype": "text/x-python",
   "name": "python",
   "nbconvert_exporter": "python",
   "pygments_lexer": "ipython3",
   "version": "3.10.4"
  }
 },
 "nbformat": 4,
 "nbformat_minor": 5
}
